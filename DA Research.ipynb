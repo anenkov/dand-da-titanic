{
 "cells": [
  {
   "cell_type": "markdown",
   "metadata": {},
   "source": [
    "# DAND - Project 2 - Data Analysis"
   ]
  },
  {
   "cell_type": "markdown",
   "metadata": {},
   "source": [
    "This project will conduct a Data Analysis on the Titanic passengers' data"
   ]
  },
  {
   "cell_type": "code",
   "execution_count": 1,
   "metadata": {
    "collapsed": false
   },
   "outputs": [],
   "source": [
    "import pandas as pd\n",
    "import math\n",
    "import matplotlib.pyplot as plt\n",
    "import numpy as np\n",
    "import seaborn as sns\n",
    "from scipy.stats import ttest_ind"
   ]
  },
  {
   "cell_type": "code",
   "execution_count": 2,
   "metadata": {
    "collapsed": false,
    "scrolled": true
   },
   "outputs": [
    {
     "data": {
      "text/html": [
       "<div>\n",
       "<table border=\"1\" class=\"dataframe\">\n",
       "  <thead>\n",
       "    <tr style=\"text-align: right;\">\n",
       "      <th></th>\n",
       "      <th>PassengerId</th>\n",
       "      <th>Survived</th>\n",
       "      <th>Pclass</th>\n",
       "      <th>Name</th>\n",
       "      <th>Sex</th>\n",
       "      <th>Age</th>\n",
       "      <th>SibSp</th>\n",
       "      <th>Parch</th>\n",
       "      <th>Ticket</th>\n",
       "      <th>Fare</th>\n",
       "      <th>Cabin</th>\n",
       "      <th>Embarked</th>\n",
       "    </tr>\n",
       "  </thead>\n",
       "  <tbody>\n",
       "    <tr>\n",
       "      <th>0</th>\n",
       "      <td>1</td>\n",
       "      <td>0</td>\n",
       "      <td>3</td>\n",
       "      <td>Braund, Mr. Owen Harris</td>\n",
       "      <td>male</td>\n",
       "      <td>22</td>\n",
       "      <td>1</td>\n",
       "      <td>0</td>\n",
       "      <td>A/5 21171</td>\n",
       "      <td>7.2500</td>\n",
       "      <td>NaN</td>\n",
       "      <td>S</td>\n",
       "    </tr>\n",
       "    <tr>\n",
       "      <th>1</th>\n",
       "      <td>2</td>\n",
       "      <td>1</td>\n",
       "      <td>1</td>\n",
       "      <td>Cumings, Mrs. John Bradley (Florence Briggs Th...</td>\n",
       "      <td>female</td>\n",
       "      <td>38</td>\n",
       "      <td>1</td>\n",
       "      <td>0</td>\n",
       "      <td>PC 17599</td>\n",
       "      <td>71.2833</td>\n",
       "      <td>C85</td>\n",
       "      <td>C</td>\n",
       "    </tr>\n",
       "    <tr>\n",
       "      <th>2</th>\n",
       "      <td>3</td>\n",
       "      <td>1</td>\n",
       "      <td>3</td>\n",
       "      <td>Heikkinen, Miss. Laina</td>\n",
       "      <td>female</td>\n",
       "      <td>26</td>\n",
       "      <td>0</td>\n",
       "      <td>0</td>\n",
       "      <td>STON/O2. 3101282</td>\n",
       "      <td>7.9250</td>\n",
       "      <td>NaN</td>\n",
       "      <td>S</td>\n",
       "    </tr>\n",
       "  </tbody>\n",
       "</table>\n",
       "</div>"
      ],
      "text/plain": [
       "   PassengerId  Survived  Pclass  \\\n",
       "0            1         0       3   \n",
       "1            2         1       1   \n",
       "2            3         1       3   \n",
       "\n",
       "                                                Name     Sex  Age  SibSp  \\\n",
       "0                            Braund, Mr. Owen Harris    male   22      1   \n",
       "1  Cumings, Mrs. John Bradley (Florence Briggs Th...  female   38      1   \n",
       "2                             Heikkinen, Miss. Laina  female   26      0   \n",
       "\n",
       "   Parch            Ticket     Fare Cabin Embarked  \n",
       "0      0         A/5 21171   7.2500   NaN        S  \n",
       "1      0          PC 17599  71.2833   C85        C  \n",
       "2      0  STON/O2. 3101282   7.9250   NaN        S  "
      ]
     },
     "execution_count": 2,
     "metadata": {},
     "output_type": "execute_result"
    }
   ],
   "source": [
    "# Set seaborn plots\n",
    "sns.set(style=\"whitegrid\", context=\"talk\")\n",
    "sns.set_context(rc={\"figure.figsize\": (8, 4)})\n",
    "\n",
    "# load the data\n",
    "passengers_df = pd.read_csv(\"titanic_data.csv\")\n",
    "\n",
    "passengers_df.head(3)"
   ]
  },
  {
   "cell_type": "markdown",
   "metadata": {},
   "source": [
    "We are interested in several questions:\n",
    "* Average survival rate and distribution in ages\n",
    "* The survival rate of children (age 18 and under), adult males, adult females\n",
    "* Survival rate by socio-economic status (Pclass)\n",
    "* Does having Sibling or Spouse on the ship inrease/decrease survivability (SibSp > 0 or Parch > 0)\n",
    "* Are there any tendencies for Port of Embarkation - e.g. people or children concentration"
   ]
  },
  {
   "cell_type": "code",
   "execution_count": 3,
   "metadata": {
    "collapsed": false
   },
   "outputs": [
    {
     "name": "stdout",
     "output_type": "stream",
     "text": [
      "Rows count:\n"
     ]
    },
    {
     "data": {
      "text/plain": [
       "PassengerId    891\n",
       "Survived       891\n",
       "Pclass         891\n",
       "Name           891\n",
       "Sex            891\n",
       "Age            714\n",
       "SibSp          891\n",
       "Parch          891\n",
       "Ticket         891\n",
       "Fare           891\n",
       "Cabin          204\n",
       "Embarked       889\n",
       "dtype: int64"
      ]
     },
     "execution_count": 3,
     "metadata": {},
     "output_type": "execute_result"
    }
   ],
   "source": [
    "print \"Rows count:\"\n",
    "passengers_df.count()"
   ]
  },
  {
   "cell_type": "code",
   "execution_count": 4,
   "metadata": {
    "collapsed": false
   },
   "outputs": [
    {
     "name": "stdout",
     "output_type": "stream",
     "text": [
      "Survived 342 out of 891\n",
      "Average probability of survival: 0.38\n"
     ]
    }
   ],
   "source": [
    "survival_mean = passengers_df[\"Survived\"].mean()\n",
    "print \"Survived {} out of {}\".format(passengers_df[\"Survived\"].sum(), passengers_df[\"Survived\"].count())\n",
    "print \"Average probability of survival: {}\".format(round(survival_mean, 2))"
   ]
  },
  {
   "cell_type": "code",
   "execution_count": 5,
   "metadata": {
    "collapsed": false
   },
   "outputs": [],
   "source": [
    "# separate survivors and non survivors\n",
    "survivors = passengers_df[passengers_df[\"Survived\"] > 0]\n",
    "non_survivors = passengers_df[passengers_df[\"Survived\"] == 0]"
   ]
  },
  {
   "cell_type": "code",
   "execution_count": 6,
   "metadata": {
    "collapsed": false
   },
   "outputs": [
    {
     "data": {
      "text/plain": [
       "<matplotlib.text.Text at 0x1177a5950>"
      ]
     },
     "execution_count": 6,
     "metadata": {},
     "output_type": "execute_result"
    },
    {
     "data": {
      "image/png": "[encoded data removed]",
      "text/plain": [
       "<matplotlib.figure.Figure at 0x1176a7b90>"
      ]
     },
     "metadata": {},
     "output_type": "display_data"
    }
   ],
   "source": [
    "%matplotlib inline\n",
    "# take all the passengers with 'Age' value\n",
    "df_with_ages = passengers_df[pd.notnull(passengers_df['Age'])]\n",
    "\n",
    "# group them by 10 years \n",
    "group_by_age = df_with_ages.groupby(\n",
    "    pd.cut(df_with_ages['Age'], np.arange(0, 90, 10), include_lowest=False)\n",
    ")\n",
    "\n",
    "# Visualize age groups survivability\n",
    "ax = sns.barplot(data=pd.DataFrame(group_by_age['Survived'].mean()).T)\n",
    "ax.set_ylabel(\"Survivability\")"
   ]
  },
  {
   "cell_type": "code",
   "execution_count": 7,
   "metadata": {
    "collapsed": false
   },
   "outputs": [
    {
     "data": {
      "text/html": [
       "<div>\n",
       "<table border=\"1\" class=\"dataframe\">\n",
       "  <thead>\n",
       "    <tr style=\"text-align: right;\">\n",
       "      <th></th>\n",
       "      <th>Children</th>\n",
       "      <th>Adult males</th>\n",
       "      <th>Adult females</th>\n",
       "    </tr>\n",
       "  </thead>\n",
       "  <tbody>\n",
       "    <tr>\n",
       "      <th>Survivability</th>\n",
       "      <td>0.5</td>\n",
       "      <td>0.18</td>\n",
       "      <td>0.78</td>\n",
       "    </tr>\n",
       "  </tbody>\n",
       "</table>\n",
       "</div>"
      ],
      "text/plain": [
       "               Children  Adult males  Adult females\n",
       "Survivability       0.5         0.18           0.78"
      ]
     },
     "execution_count": 7,
     "metadata": {},
     "output_type": "execute_result"
    }
   ],
   "source": [
    "# get datasets with children, males, females\n",
    "children = df_with_ages[(df_with_ages['Age'] <= 18)]\n",
    "adult_males = df_with_ages[(df_with_ages['Age'] > 18) & (df_with_ages['Sex'] == 'male')]\n",
    "adult_females = df_with_ages[(df_with_ages['Age'] > 18) & (df_with_ages['Sex'] == 'female')]\n",
    "\n",
    "# Combine the mean data into a dataframe\n",
    "surv_data = pd.DataFrame([\n",
    "        [children['Survived'].mean(),adult_males['Survived'].mean(), adult_females['Survived'].mean()]\n",
    "    ], index=[\"Survivability\"], columns=[\"Children\", \"Adult males\", \"Adult females\"]).round(2)\n",
    "surv_data"
   ]
  },
  {
   "cell_type": "code",
   "execution_count": 8,
   "metadata": {
    "collapsed": false
   },
   "outputs": [
    {
     "data": {
      "text/plain": [
       "<matplotlib.text.Text at 0x11a176890>"
      ]
     },
     "execution_count": 8,
     "metadata": {},
     "output_type": "execute_result"
    },
    {
     "data": {
      "image/png": "[encoded data removed]",
      "text/plain": [
       "<matplotlib.figure.Figure at 0x117627a50>"
      ]
     },
     "metadata": {},
     "output_type": "display_data"
    }
   ],
   "source": [
    "# Visualize the survivability mean\n",
    "ax = sns.barplot(data=surv_data)\n",
    "ax.set_ylabel(\"Survivability\")"
   ]
  },
  {
   "cell_type": "code",
   "execution_count": 9,
   "metadata": {
    "collapsed": false
   },
   "outputs": [
    {
     "data": {
      "text/html": [
       "<div>\n",
       "<table border=\"1\" class=\"dataframe\">\n",
       "  <thead>\n",
       "    <tr style=\"text-align: right;\">\n",
       "      <th>Pclass</th>\n",
       "      <th>1</th>\n",
       "      <th>2</th>\n",
       "      <th>3</th>\n",
       "    </tr>\n",
       "  </thead>\n",
       "  <tbody>\n",
       "    <tr>\n",
       "      <th>Survived</th>\n",
       "      <td>0.62963</td>\n",
       "      <td>0.472826</td>\n",
       "      <td>0.242363</td>\n",
       "    </tr>\n",
       "  </tbody>\n",
       "</table>\n",
       "</div>"
      ],
      "text/plain": [
       "Pclass          1         2         3\n",
       "Survived  0.62963  0.472826  0.242363"
      ]
     },
     "execution_count": 9,
     "metadata": {},
     "output_type": "execute_result"
    }
   ],
   "source": [
    "# Group passengers by Pclass and calculate the mean of survivability for each Pclass\n",
    "class_surv_data = pd.DataFrame(passengers_df.groupby('Pclass')['Survived'].mean()).T\n",
    "class_surv_data"
   ]
  },
  {
   "cell_type": "code",
   "execution_count": 10,
   "metadata": {
    "collapsed": false,
    "scrolled": false
   },
   "outputs": [
    {
     "data": {
      "text/plain": [
       "<matplotlib.text.Text at 0x11a20a810>"
      ]
     },
     "execution_count": 10,
     "metadata": {},
     "output_type": "execute_result"
    },
    {
     "data": {
      "image/png": "[encoded data removed]",
      "text/plain": [
       "<matplotlib.figure.Figure at 0x11a1db5d0>"
      ]
     },
     "metadata": {},
     "output_type": "display_data"
    }
   ],
   "source": [
    "ax = sns.barplot(data=class_surv_data)\n",
    "ax.set_ylabel(\"Survivability\")"
   ]
  },
  {
   "cell_type": "markdown",
   "metadata": {},
   "source": [
    "## Here we'll test if the chance of surviving between those who have relatives and those who don't is statistically significant at α = 0.01"
   ]
  },
  {
   "cell_type": "code",
   "execution_count": 11,
   "metadata": {
    "collapsed": false
   },
   "outputs": [
    {
     "name": "stdout",
     "output_type": "stream",
     "text": [
      "H₀: Μhr = Μnhr          H₁: Μhr ≠ Μnhr          α = .01\n"
     ]
    }
   ],
   "source": [
    "print u'H\\u2080: \\u039Chr = \\u039cnhr          H\\u2081: \\u039Chr \\u2260 \\u039cnhr          \\u03B1 = .01'"
   ]
  },
  {
   "cell_type": "code",
   "execution_count": 12,
   "metadata": {
    "collapsed": false
   },
   "outputs": [
    {
     "name": "stdout",
     "output_type": "stream",
     "text": [
      "count    354.000000\n",
      "mean       0.505650\n",
      "std        0.500676\n",
      "min        0.000000\n",
      "25%        0.000000\n",
      "50%        1.000000\n",
      "75%        1.000000\n",
      "max        1.000000\n",
      "Name: Survived, dtype: float64\n",
      "count    537.000000\n",
      "mean       0.303538\n",
      "std        0.460214\n",
      "min        0.000000\n",
      "25%        0.000000\n",
      "50%        0.000000\n",
      "75%        1.000000\n",
      "max        1.000000\n",
      "Name: Survived, dtype: float64\n"
     ]
    }
   ],
   "source": [
    "# separate those having relatives (hr) from those who don't (nhr)\n",
    "having_relatives = passengers_df[(passengers_df['SibSp'] > 0) | (passengers_df['Parch'] > 0)]['Survived']\n",
    "not_having_relatives = passengers_df[(passengers_df['SibSp'] == 0) & (passengers_df['Parch'] == 0)]['Survived']\n",
    "\n",
    "print having_relatives.describe()\n",
    "print not_having_relatives.describe()"
   ]
  },
  {
   "cell_type": "code",
   "execution_count": 13,
   "metadata": {
    "collapsed": false
   },
   "outputs": [
    {
     "name": "stdout",
     "output_type": "stream",
     "text": [
      "Degree of freedom: 889\n",
      "t-statistic: 6.19\n",
      "t-critical: 2.581\n"
     ]
    }
   ],
   "source": [
    "## Get the means\n",
    "hr_xbar = having_relatives.mean()\n",
    "nhr_xbar = not_having_relatives.mean()\n",
    "\n",
    "# Calculate Sum of Squares for samples\n",
    "ss_hr = np.sum((having_relatives - hr_xbar) ** 2)\n",
    "ss_nhr = np.sum((not_having_relatives - nhr_xbar) ** 2)\n",
    "\n",
    "# Degree of Freedom\n",
    "dof = having_relatives.count() + not_having_relatives.count() - 2\n",
    "print \"Degree of freedom: {}\".format(dof)\n",
    "# Pooled Variance\n",
    "pooled_var = (ss_hr + ss_nhr)/dof\n",
    "\n",
    "# Standared Error\n",
    "st_err = math.sqrt(pooled_var/having_relatives.count() + pooled_var/not_having_relatives.count())\n",
    "\n",
    "# t-statistic\n",
    "t_statistic = (hr_xbar - nhr_xbar)/st_err\n",
    "print \"t-statistic: {}\".format(round(t_statistic,2))\n",
    "\n",
    "# t-critical \n",
    "t_critical = 2.581\n",
    "print \"t-critical: {}\".format(t_critical)\n",
    "\n",
    "# Margin of Error\n",
    "margin_of_error = t_critical * st_err"
   ]
  },
  {
   "cell_type": "markdown",
   "metadata": {},
   "source": [
    "** The two-tailed P value is less than 0.0001 **  \n",
    "** By conventional criteria, this difference is considered to be extremely statistically significant. **  \n",
    "** *Based on the result Μhr ≠ Μnhr and we can reject the null hypotheses. * **"
   ]
  },
  {
   "cell_type": "code",
   "execution_count": 14,
   "metadata": {
    "collapsed": false
   },
   "outputs": [
    {
     "name": "stdout",
     "output_type": "stream",
     "text": [
      "CI(99%) = (0.117879804282, 0.286343280653)\n"
     ]
    }
   ],
   "source": [
    "CI_left = hr_xbar - nhr_xbar - margin_of_error\n",
    "CI_right = hr_xbar - nhr_xbar + margin_of_error\n",
    "print \"CI(99%) = ({}, {})\".format(CI_left, CI_right)"
   ]
  },
  {
   "cell_type": "markdown",
   "metadata": {},
   "source": [
    "** *We are 99% sure that people who have relatives on criuses have between 12% and 29% higher chance of surviving in case of a shipwreck* **"
   ]
  },
  {
   "cell_type": "code",
   "execution_count": 15,
   "metadata": {
    "collapsed": false
   },
   "outputs": [
    {
     "data": {
      "text/plain": [
       "'t-statistic: 6.19303248808, p-value: 9.00949017933e-10'"
      ]
     },
     "execution_count": 15,
     "metadata": {},
     "output_type": "execute_result"
    }
   ],
   "source": [
    "# Another way of computing the t-statistic and p-value would be this one \n",
    "# but I did the above because of the confidence intervals\n",
    "t, p = ttest_ind(having_relatives, not_having_relatives)\n",
    "\"t-statistic: {}, p-value: {}\".format(t,p)"
   ]
  },
  {
   "cell_type": "markdown",
   "metadata": {},
   "source": [
    "Sources:\n",
    "  1. [Titanic passengers' data and description](https://www.kaggle.com/c/titanic/data)"
   ]
  }
 ],
 "metadata": {
  "kernelspec": {
   "display_name": "Python 2",
   "language": "python",
   "name": "python2"
  },
  "language_info": {
   "codemirror_mode": {
    "name": "ipython",
    "version": 2
   },
   "file_extension": ".py",
   "mimetype": "text/x-python",
   "name": "python",
   "nbconvert_exporter": "python",
   "pygments_lexer": "ipython2",
   "version": "2.7.11"
  }
 },
 "nbformat": 4,
 "nbformat_minor": 0
}
