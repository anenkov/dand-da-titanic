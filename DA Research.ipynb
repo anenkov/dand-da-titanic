{
 "cells": [
  {
   "cell_type": "markdown",
   "metadata": {},
   "source": [
    "# DAND - Project 2 - Data Analysis"
   ]
  },
  {
   "cell_type": "markdown",
   "metadata": {},
   "source": [
    "*This document and the accompanying files can be found on [GitHub](https://github.com/anenkov/dand-da-titanic)*"
   ]
  },
  {
   "cell_type": "markdown",
   "metadata": {},
   "source": [
    "### This project will conduct a Data Analysis on the Titanic passengers' data"
   ]
  },
  {
   "cell_type": "code",
   "execution_count": 1,
   "metadata": {
    "collapsed": false
   },
   "outputs": [],
   "source": [
    "import pandas as pd\n",
    "import math\n",
    "import matplotlib.pyplot as plt\n",
    "import numpy as np\n",
    "import seaborn as sns\n",
    "import scipy.stats as stats\n",
    "import re"
   ]
  },
  {
   "cell_type": "code",
   "execution_count": 2,
   "metadata": {
    "collapsed": false,
    "scrolled": true
   },
   "outputs": [
    {
     "data": {
      "text/html": [
       "<div>\n",
       "<table border=\"1\" class=\"dataframe\">\n",
       "  <thead>\n",
       "    <tr style=\"text-align: right;\">\n",
       "      <th></th>\n",
       "      <th>PassengerId</th>\n",
       "      <th>Survived</th>\n",
       "      <th>Pclass</th>\n",
       "      <th>Name</th>\n",
       "      <th>Sex</th>\n",
       "      <th>Age</th>\n",
       "      <th>SibSp</th>\n",
       "      <th>Parch</th>\n",
       "      <th>Ticket</th>\n",
       "      <th>Fare</th>\n",
       "      <th>Cabin</th>\n",
       "      <th>Embarked</th>\n",
       "    </tr>\n",
       "  </thead>\n",
       "  <tbody>\n",
       "    <tr>\n",
       "      <th>0</th>\n",
       "      <td>1</td>\n",
       "      <td>0</td>\n",
       "      <td>3</td>\n",
       "      <td>Braund, Mr. Owen Harris</td>\n",
       "      <td>male</td>\n",
       "      <td>22</td>\n",
       "      <td>1</td>\n",
       "      <td>0</td>\n",
       "      <td>A/5 21171</td>\n",
       "      <td>7.2500</td>\n",
       "      <td>NaN</td>\n",
       "      <td>S</td>\n",
       "    </tr>\n",
       "    <tr>\n",
       "      <th>1</th>\n",
       "      <td>2</td>\n",
       "      <td>1</td>\n",
       "      <td>1</td>\n",
       "      <td>Cumings, Mrs. John Bradley (Florence Briggs Th...</td>\n",
       "      <td>female</td>\n",
       "      <td>38</td>\n",
       "      <td>1</td>\n",
       "      <td>0</td>\n",
       "      <td>PC 17599</td>\n",
       "      <td>71.2833</td>\n",
       "      <td>C85</td>\n",
       "      <td>C</td>\n",
       "    </tr>\n",
       "    <tr>\n",
       "      <th>2</th>\n",
       "      <td>3</td>\n",
       "      <td>1</td>\n",
       "      <td>3</td>\n",
       "      <td>Heikkinen, Miss. Laina</td>\n",
       "      <td>female</td>\n",
       "      <td>26</td>\n",
       "      <td>0</td>\n",
       "      <td>0</td>\n",
       "      <td>STON/O2. 3101282</td>\n",
       "      <td>7.9250</td>\n",
       "      <td>NaN</td>\n",
       "      <td>S</td>\n",
       "    </tr>\n",
       "  </tbody>\n",
       "</table>\n",
       "</div>"
      ],
      "text/plain": [
       "   PassengerId  Survived  Pclass  \\\n",
       "0            1         0       3   \n",
       "1            2         1       1   \n",
       "2            3         1       3   \n",
       "\n",
       "                                                Name     Sex  Age  SibSp  \\\n",
       "0                            Braund, Mr. Owen Harris    male   22      1   \n",
       "1  Cumings, Mrs. John Bradley (Florence Briggs Th...  female   38      1   \n",
       "2                             Heikkinen, Miss. Laina  female   26      0   \n",
       "\n",
       "   Parch            Ticket     Fare Cabin Embarked  \n",
       "0      0         A/5 21171   7.2500   NaN        S  \n",
       "1      0          PC 17599  71.2833   C85        C  \n",
       "2      0  STON/O2. 3101282   7.9250   NaN        S  "
      ]
     },
     "execution_count": 2,
     "metadata": {},
     "output_type": "execute_result"
    }
   ],
   "source": [
    "# Set seaborn plots\n",
    "sns.set(style=\"whitegrid\", context=\"paper\")\n",
    "sns.set_context(rc={\"figure.figsize\": (8, 4)})\n",
    "\n",
    "# load the data\n",
    "passengers_df = pd.read_csv(\"titanic_data.csv\")\n",
    "passengers_df.head(3)"
   ]
  },
  {
   "cell_type": "markdown",
   "metadata": {},
   "source": [
    "We are interested in several questions:\n",
    "* Average survival rate and distribution in ages\n",
    "* The survival rate of children (age under 18), adult males, adult females\n",
    "* Survival rate by socio-economic status (Pclass)\n",
    "* Does having Sibling or Spouse on the ship inrease/decrease survivability (SibSp > 0 or Parch > 0)\n",
    "* Are there any tendencies for Port of Embarkation - e.g. survivors or dead concentration"
   ]
  },
  {
   "cell_type": "code",
   "execution_count": 3,
   "metadata": {
    "collapsed": false
   },
   "outputs": [
    {
     "data": {
      "text/html": [
       "<div>\n",
       "<table border=\"1\" class=\"dataframe\">\n",
       "  <thead>\n",
       "    <tr style=\"text-align: right;\">\n",
       "      <th></th>\n",
       "      <th>PassengerId</th>\n",
       "      <th>Survived</th>\n",
       "      <th>Pclass</th>\n",
       "      <th>Name</th>\n",
       "      <th>Sex</th>\n",
       "      <th>Age</th>\n",
       "      <th>SibSp</th>\n",
       "      <th>Parch</th>\n",
       "      <th>Ticket</th>\n",
       "      <th>Fare</th>\n",
       "      <th>Cabin</th>\n",
       "      <th>Embarked</th>\n",
       "    </tr>\n",
       "  </thead>\n",
       "  <tbody>\n",
       "    <tr>\n",
       "      <th>Rows</th>\n",
       "      <td>891</td>\n",
       "      <td>891</td>\n",
       "      <td>891</td>\n",
       "      <td>891</td>\n",
       "      <td>891</td>\n",
       "      <td>714</td>\n",
       "      <td>891</td>\n",
       "      <td>891</td>\n",
       "      <td>891</td>\n",
       "      <td>891</td>\n",
       "      <td>204</td>\n",
       "      <td>889</td>\n",
       "    </tr>\n",
       "  </tbody>\n",
       "</table>\n",
       "</div>"
      ],
      "text/plain": [
       "      PassengerId  Survived  Pclass  Name  Sex  Age  SibSp  Parch  Ticket  \\\n",
       "Rows          891       891     891   891  891  714    891    891     891   \n",
       "\n",
       "      Fare  Cabin  Embarked  \n",
       "Rows   891    204       889  "
      ]
     },
     "execution_count": 3,
     "metadata": {},
     "output_type": "execute_result"
    }
   ],
   "source": [
    "pd.DataFrame({\"Rows\" :passengers_df.count()}).T"
   ]
  },
  {
   "cell_type": "markdown",
   "metadata": {},
   "source": [
    "The data is somewhat clean. We'll not use 'Cabin' which is the most missing and will ignore it. For the missing 'Ages' and 'Embarked' will omit those rows when we use the data. Although about 20% of the data is missing age this should not cause great impact because sample size remains 714 which is more than enough for some conclusions. Should be noted that there are 25 people of the sample whose age is 'Estimated' but this should not affect the outcome significantly. "
   ]
  },
  {
   "cell_type": "code",
   "execution_count": 4,
   "metadata": {
    "collapsed": false
   },
   "outputs": [
    {
     "name": "stdout",
     "output_type": "stream",
     "text": [
      "Survived 342 out of 891\n",
      "Average probability of survival: 0.38\n"
     ]
    }
   ],
   "source": [
    "survival_mean = passengers_df[\"Survived\"].mean()\n",
    "print \"Survived {} out of {}\".format(passengers_df[\"Survived\"].sum(), passengers_df[\"Survived\"].count())\n",
    "print \"Average probability of survival: {}\".format(round(survival_mean, 2))"
   ]
  },
  {
   "cell_type": "markdown",
   "metadata": {},
   "source": [
    "### Survivability by age"
   ]
  },
  {
   "cell_type": "markdown",
   "metadata": {},
   "source": [
    "First will clean the data removing rows without age. Will create new Data Frame in case we need the original later on"
   ]
  },
  {
   "cell_type": "code",
   "execution_count": 5,
   "metadata": {
    "collapsed": false
   },
   "outputs": [],
   "source": [
    "# Clean the data by removing rows with missing data to ease further calculations\n",
    "df_with_ages = passengers_df[pd.notnull(passengers_df['Age'])]"
   ]
  },
  {
   "cell_type": "code",
   "execution_count": 6,
   "metadata": {
    "collapsed": true
   },
   "outputs": [],
   "source": [
    "# Function used to visualize barplots for Survivability\n",
    "def visualize_surv_barplot(df):\n",
    "    ax = sns.barplot(data=df)\n",
    "    ax.set_ylabel(\"Survivability\")\n",
    "    \n",
    "def visualize_surv_violin(df):\n",
    "    sns.violinplot(x='Survived', y='Age', data=df, cut=0)"
   ]
  },
  {
   "cell_type": "code",
   "execution_count": 7,
   "metadata": {
    "collapsed": false
   },
   "outputs": [
    {
     "data": {
      "text/plain": [
       "<matplotlib.axes._subplots.AxesSubplot at 0x117065d90>"
      ]
     },
     "execution_count": 7,
     "metadata": {},
     "output_type": "execute_result"
    },
    {
     "data": {
      "image/png": "[encoded data removed]",
      "text/plain": [
       "<matplotlib.figure.Figure at 0x117065d50>"
      ]
     },
     "metadata": {},
     "output_type": "display_data"
    }
   ],
   "source": [
    "%matplotlib inline\n",
    "# take all the passengers with 'Age' cleaning the NaN values\n",
    "df_with_ages = passengers_df[pd.notnull(passengers_df['Age'])]\n",
    "\n",
    "# visualize age disrtibution\n",
    "sns.violinplot(x=df_with_ages['Age'], cut=0)"
   ]
  },
  {
   "cell_type": "code",
   "execution_count": 8,
   "metadata": {
    "collapsed": false
   },
   "outputs": [
    {
     "data": {
      "text/plain": [
       "<matplotlib.axes._subplots.AxesSubplot at 0x119838850>"
      ]
     },
     "execution_count": 8,
     "metadata": {},
     "output_type": "execute_result"
    },
    {
     "data": {
      "image/png": "[encoded data removed]",
      "text/plain": [
       "<matplotlib.figure.Figure at 0x119841b10>"
      ]
     },
     "metadata": {},
     "output_type": "display_data"
    }
   ],
   "source": [
    "# visualize age distribution with boxplot\n",
    "sns.boxplot(x=df_with_ages['Age'])"
   ]
  },
  {
   "cell_type": "markdown",
   "metadata": {},
   "source": [
    "We can see the age distribution is positively skewed but not too much with some outliers in the upper end."
   ]
  },
  {
   "cell_type": "markdown",
   "metadata": {},
   "source": [
    "Now we'll separate people in bins of 10 years each to see the average survivability in groups"
   ]
  },
  {
   "cell_type": "code",
   "execution_count": 9,
   "metadata": {
    "collapsed": false
   },
   "outputs": [
    {
     "data": {
      "image/png": "[encoded data removed]",
      "text/plain": [
       "<matplotlib.figure.Figure at 0x1199a2b90>"
      ]
     },
     "metadata": {},
     "output_type": "display_data"
    }
   ],
   "source": [
    "# group them by 10 years \n",
    "group_by_age = df_with_ages.groupby(\n",
    "    pd.cut(df_with_ages['Age'], np.arange(0, 90, 10), include_lowest=False)\n",
    ")\n",
    "\n",
    "# Visualize age groups survivability\n",
    "visualize_surv_barplot(pd.DataFrame(group_by_age['Survived'].mean()).T)"
   ]
  },
  {
   "cell_type": "markdown",
   "metadata": {},
   "source": [
    "The distribution would be uniform if wasn't for the both ends which are above the mean for the children under 10 and below the mean for the older people above 60."
   ]
  },
  {
   "cell_type": "markdown",
   "metadata": {},
   "source": [
    "Another interesting aspect would be distribution of ages between those who survived and those who did not."
   ]
  },
  {
   "cell_type": "code",
   "execution_count": 10,
   "metadata": {
    "collapsed": false
   },
   "outputs": [
    {
     "data": {
      "image/png": "[encoded data removed]",
      "text/plain": [
       "<matplotlib.figure.Figure at 0x119904090>"
      ]
     },
     "metadata": {},
     "output_type": "display_data"
    }
   ],
   "source": [
    "# visualize distribution by age\n",
    "visualize_surv_violin(df_with_ages)"
   ]
  },
  {
   "cell_type": "markdown",
   "metadata": {},
   "source": [
    "The distribution of survivors is more normalized than the one containing all people while the one with non-survivors is clearly positively skewed. It's really surprising that the death rate between prime age (20-30) people is so high but that's probably cause of the humanity factor to save children and elders first. It can be seen clearly that the children distribution is a lot higher in the surviving group."
   ]
  },
  {
   "cell_type": "markdown",
   "metadata": {},
   "source": [
    "### Survivability split by children, adult males and adult females"
   ]
  },
  {
   "cell_type": "markdown",
   "metadata": {},
   "source": [
    "As a start we should create those groups in order to investigate them"
   ]
  },
  {
   "cell_type": "code",
   "execution_count": 11,
   "metadata": {
    "collapsed": false
   },
   "outputs": [],
   "source": [
    "def group_by_sex_adult(df, ind):\n",
    "    if df['Age'].loc[ind] < 18:\n",
    "        return 'Children'\n",
    "    elif df['Sex'].loc[ind] == 'male':\n",
    "        return 'Adult males'\n",
    "    else:\n",
    "        return 'Adult females'\n",
    "\n",
    "sex_age_grp = df_with_ages.groupby(lambda x: group_by_sex_adult(df_with_ages, x))"
   ]
  },
  {
   "cell_type": "markdown",
   "metadata": {},
   "source": [
    "Now some descriptive numbers"
   ]
  },
  {
   "cell_type": "code",
   "execution_count": 12,
   "metadata": {
    "collapsed": false,
    "scrolled": true
   },
   "outputs": [
    {
     "data": {
      "text/html": [
       "<div>\n",
       "<table border=\"1\" class=\"dataframe\">\n",
       "  <thead>\n",
       "    <tr style=\"text-align: right;\">\n",
       "      <th></th>\n",
       "      <th>Age</th>\n",
       "      <th>Survived</th>\n",
       "    </tr>\n",
       "  </thead>\n",
       "  <tbody>\n",
       "    <tr>\n",
       "      <th>Adult females</th>\n",
       "      <td>32.902913</td>\n",
       "      <td>0.771845</td>\n",
       "    </tr>\n",
       "    <tr>\n",
       "      <th>Adult males</th>\n",
       "      <td>33.937975</td>\n",
       "      <td>0.177215</td>\n",
       "    </tr>\n",
       "    <tr>\n",
       "      <th>Children</th>\n",
       "      <td>9.041327</td>\n",
       "      <td>0.539823</td>\n",
       "    </tr>\n",
       "  </tbody>\n",
       "</table>\n",
       "</div>"
      ],
      "text/plain": [
       "                     Age  Survived\n",
       "Adult females  32.902913  0.771845\n",
       "Adult males    33.937975  0.177215\n",
       "Children        9.041327  0.539823"
      ]
     },
     "execution_count": 12,
     "metadata": {},
     "output_type": "execute_result"
    }
   ],
   "source": [
    "sex_age_grp[['Age','Survived']].mean()"
   ]
  },
  {
   "cell_type": "markdown",
   "metadata": {},
   "source": [
    "The difference between men and women is striking but probably expected. The children surivability is little low but this might be because of the lower class - something we'll check later."
   ]
  },
  {
   "cell_type": "code",
   "execution_count": 13,
   "metadata": {
    "collapsed": false
   },
   "outputs": [],
   "source": [
    "def get_adults_by_gender(gender):\n",
    "    return df_with_ages[(df_with_ages['Age'] >= 18) & (df_with_ages['Sex'] == gender)]"
   ]
  },
  {
   "cell_type": "code",
   "execution_count": 14,
   "metadata": {
    "collapsed": false
   },
   "outputs": [
    {
     "data": {
      "image/png": "[encoded data removed]",
      "text/plain": [
       "<matplotlib.figure.Figure at 0x119bc2490>"
      ]
     },
     "metadata": {},
     "output_type": "display_data"
    }
   ],
   "source": [
    "# Display men violin\n",
    "visualize_surv_violin(get_adults_by_gender('male'))"
   ]
  },
  {
   "cell_type": "markdown",
   "metadata": {},
   "source": [
    "For adult males the violins are almost identical. The mean of survivors is just a little more than the other."
   ]
  },
  {
   "cell_type": "code",
   "execution_count": 15,
   "metadata": {
    "collapsed": false,
    "scrolled": true
   },
   "outputs": [
    {
     "data": {
      "image/png": "[encoded data removed]",
      "text/plain": [
       "<matplotlib.figure.Figure at 0x119f1a290>"
      ]
     },
     "metadata": {},
     "output_type": "display_data"
    }
   ],
   "source": [
    "# Display women violin\n",
    "visualize_surv_violin(get_adults_by_gender('female'))"
   ]
  },
  {
   "cell_type": "markdown",
   "metadata": {},
   "source": [
    "Here, for women is almost the same with little more spread distribution for survivors"
   ]
  },
  {
   "cell_type": "code",
   "execution_count": 16,
   "metadata": {
    "collapsed": false
   },
   "outputs": [
    {
     "data": {
      "image/png": "[encoded data removed]",
      "text/plain": [
       "<matplotlib.figure.Figure at 0x119f58290>"
      ]
     },
     "metadata": {},
     "output_type": "display_data"
    }
   ],
   "source": [
    "visualize_surv_violin(df_with_ages[df_with_ages['Age'] < 18])"
   ]
  },
  {
   "cell_type": "markdown",
   "metadata": {},
   "source": [
    "For children the distribution has most differences between survivors an non survivors. There is a pattern to be less likely to survive the older the child get. But that's expected as most of the non-survivers were 20-30 years old."
   ]
  },
  {
   "cell_type": "code",
   "execution_count": 17,
   "metadata": {
    "collapsed": false
   },
   "outputs": [],
   "source": [
    "def ttest(series_x, series_y, t_critical, alpha):\n",
    "    print u\"\\u03B1 = {}\".format(alpha)\n",
    "    \n",
    "    ## Get the means\n",
    "    xbar = series_x.mean()\n",
    "    ybar = series_y.mean()\n",
    "\n",
    "    # Calculate Sum of Squares for samples\n",
    "    ss_x = np.sum((series_x - xbar) ** 2)\n",
    "    ss_y = np.sum((series_y - ybar) ** 2)\n",
    "\n",
    "    # Degree of Freedom\n",
    "    dof = series_x.count() + series_y.count() - 2\n",
    "    print \"Degree of freedom: {}\".format(dof)\n",
    "    # Pooled Variance\n",
    "    pooled_var = (ss_x + ss_y)/dof\n",
    "\n",
    "    # Standared Error\n",
    "    st_err = math.sqrt(pooled_var/series_x.count() + pooled_var/series_y.count())\n",
    "\n",
    "    # t-statistic\n",
    "    t_statistic = (xbar - ybar)/st_err\n",
    "    print \"t-statistic: {}\".format(round(t_statistic,2))\n",
    "    \n",
    "    # t-critical \n",
    "    print \"t-critical: {}\".format(t_critical)\n",
    "\n",
    "    #p-value\n",
    "    p = stats.t.sf(np.abs(t_statistic), dof)*2\n",
    "    \n",
    "    print \"p-value: {}\".format(p)\n",
    "    \n",
    "    print \"The result is{} statistically significant\".format(\"not\" if p > alpha else \"\")\n",
    "    # Accept/Reject the null\n",
    "    print \"We {} the null hypothesis.\".format(\"accept\" if abs(t_statistic) <= t_critical else \"reject\")\n",
    "\n",
    "    # Margin of Error\n",
    "    margin_of_error = t_critical * st_err\n",
    "    \n",
    "    # Confidence interval\n",
    "    CI_left = xbar - ybar - margin_of_error\n",
    "    CI_right = xbar - ybar + margin_of_error\n",
    "    print \"CI({}%) = ({}, {})\".format((1-alpha)*100, round(CI_left,2), round(CI_right, 2))"
   ]
  },
  {
   "cell_type": "markdown",
   "metadata": {},
   "source": [
    "Now we're gonna make a quick test on the chance of survival between man and women\n",
    "#### *H0: There difference in the chance of survival for men and women*\n",
    "#### * H1: The chance of survival between men and women is different*"
   ]
  },
  {
   "cell_type": "code",
   "execution_count": 18,
   "metadata": {
    "collapsed": false
   },
   "outputs": [
    {
     "name": "stdout",
     "output_type": "stream",
     "text": [
      "α = 0.01\n",
      "Degree of freedom: 599\n",
      "t-statistic: 17.48\n",
      "t-critical: 2.581\n",
      "p-value: 1.39947704741e-55\n",
      "The result is statistically significant\n",
      "We reject the null hypothesis.\n",
      "CI(99.0%) = (0.51, 0.68)\n"
     ]
    }
   ],
   "source": [
    "ttest(get_adults_by_gender('female')['Survived'], get_adults_by_gender('male')['Survived'], 2.581, 0.01)"
   ]
  },
  {
   "cell_type": "code",
   "execution_count": 19,
   "metadata": {
    "collapsed": true
   },
   "outputs": [],
   "source": [
    "#### *We are 99% confident women have between 50% and 68% higher chance than man for survival "
   ]
  },
  {
   "cell_type": "markdown",
   "metadata": {},
   "source": [
    "### Survival rate by socio-economic status (Pclass)"
   ]
  },
  {
   "cell_type": "code",
   "execution_count": 20,
   "metadata": {
    "collapsed": false
   },
   "outputs": [
    {
     "data": {
      "text/plain": [
       "([<matplotlib.patches.Wedge at 0x11a4d3b50>,\n",
       "  <matplotlib.patches.Wedge at 0x11a4e0f10>,\n",
       "  <matplotlib.patches.Wedge at 0x11a662250>],\n",
       " [<matplotlib.text.Text at 0x11a4e0610>,\n",
       "  <matplotlib.text.Text at 0x11a4ec990>,\n",
       "  <matplotlib.text.Text at 0x11a662c90>],\n",
       " [<matplotlib.text.Text at 0x11a4e0ad0>,\n",
       "  <matplotlib.text.Text at 0x11a4ecdd0>,\n",
       "  <matplotlib.text.Text at 0x11a66f110>])"
      ]
     },
     "execution_count": 20,
     "metadata": {},
     "output_type": "execute_result"
    },
    {
     "data": {
      "image/png": "[encoded data removed]",
      "text/plain": [
       "<matplotlib.figure.Figure at 0x11a0b6590>"
      ]
     },
     "metadata": {},
     "output_type": "display_data"
    }
   ],
   "source": [
    "# Data to plot\n",
    "labels = 'Pclass 1', 'Pclass 2', 'Pclass3'\n",
    "sizes = [215, 130, 245, 210]\n",
    "colors = ['yellowgreen', 'lightcoral', 'lightskyblue']\n",
    " \n",
    "# Plot\n",
    "plt.pie(passengers_df.groupby('Pclass')['PassengerId'].count().values, labels=labels, colors=colors,\n",
    "        autopct='%1.1f%%', shadow=True)"
   ]
  },
  {
   "cell_type": "markdown",
   "metadata": {},
   "source": [
    "We can see most of the people are with low socio-economic status."
   ]
  },
  {
   "cell_type": "code",
   "execution_count": 21,
   "metadata": {
    "collapsed": false
   },
   "outputs": [
    {
     "data": {
      "text/html": [
       "<div>\n",
       "<table border=\"1\" class=\"dataframe\">\n",
       "  <thead>\n",
       "    <tr style=\"text-align: right;\">\n",
       "      <th>Pclass</th>\n",
       "      <th>1</th>\n",
       "      <th>2</th>\n",
       "      <th>3</th>\n",
       "    </tr>\n",
       "  </thead>\n",
       "  <tbody>\n",
       "    <tr>\n",
       "      <th>Survived</th>\n",
       "      <td>0.62963</td>\n",
       "      <td>0.472826</td>\n",
       "      <td>0.242363</td>\n",
       "    </tr>\n",
       "  </tbody>\n",
       "</table>\n",
       "</div>"
      ],
      "text/plain": [
       "Pclass          1         2         3\n",
       "Survived  0.62963  0.472826  0.242363"
      ]
     },
     "execution_count": 21,
     "metadata": {},
     "output_type": "execute_result"
    }
   ],
   "source": [
    "# Group passengers by Pclass and calculate the mean of survivability for each Pclass\n",
    "class_surv_data = pd.DataFrame(passengers_df.groupby('Pclass')['Survived'].mean()).T\n",
    "class_surv_data"
   ]
  },
  {
   "cell_type": "markdown",
   "metadata": {},
   "source": [
    "It's obvious the survival rate increases with upper class"
   ]
  },
  {
   "cell_type": "code",
   "execution_count": 22,
   "metadata": {
    "collapsed": false,
    "scrolled": false
   },
   "outputs": [
    {
     "data": {
      "image/png": "[encoded data removed]",
      "text/plain": [
       "<matplotlib.figure.Figure at 0x11a063f50>"
      ]
     },
     "metadata": {},
     "output_type": "display_data"
    }
   ],
   "source": [
    "# Visualize survivability for each Pclass\n",
    "visualize_surv_barplot(class_surv_data)"
   ]
  },
  {
   "cell_type": "code",
   "execution_count": 23,
   "metadata": {
    "collapsed": false
   },
   "outputs": [
    {
     "data": {
      "text/plain": [
       "<matplotlib.axes._subplots.AxesSubplot at 0x11a21f190>"
      ]
     },
     "execution_count": 23,
     "metadata": {},
     "output_type": "execute_result"
    },
    {
     "data": {
      "image/png": "[encoded data removed]",
      "text/plain": [
       "<matplotlib.figure.Figure at 0x119f585d0>"
      ]
     },
     "metadata": {},
     "output_type": "display_data"
    }
   ],
   "source": [
    "# Visualize survivability by age and class\n",
    "sns.barplot(x=\"Sex\", y=\"Survived\", hue=\"Pclass\", data=df_with_ages)"
   ]
  },
  {
   "cell_type": "markdown",
   "metadata": {},
   "source": [
    "The data is a lot different when split by gender. While men have almost twice survivability rate for Pclass 1 compared to 2 and 3, almost all females from class 1 and 2 survived while in Pclass 3 there is a significant drop."
   ]
  },
  {
   "cell_type": "markdown",
   "metadata": {},
   "source": [
    "As mentioned earlier the drop in children survivability might happen in Pclass 3"
   ]
  },
  {
   "cell_type": "code",
   "execution_count": 24,
   "metadata": {
    "collapsed": false
   },
   "outputs": [
    {
     "data": {
      "text/html": [
       "<div>\n",
       "<table border=\"1\" class=\"dataframe\">\n",
       "  <thead>\n",
       "    <tr>\n",
       "      <th></th>\n",
       "      <th colspan=\"2\" halign=\"left\">Survived</th>\n",
       "    </tr>\n",
       "    <tr>\n",
       "      <th></th>\n",
       "      <th>count</th>\n",
       "      <th>mean</th>\n",
       "    </tr>\n",
       "    <tr>\n",
       "      <th>Pclass</th>\n",
       "      <th></th>\n",
       "      <th></th>\n",
       "    </tr>\n",
       "  </thead>\n",
       "  <tbody>\n",
       "    <tr>\n",
       "      <th>1</th>\n",
       "      <td>12</td>\n",
       "      <td>0.916667</td>\n",
       "    </tr>\n",
       "    <tr>\n",
       "      <th>2</th>\n",
       "      <td>23</td>\n",
       "      <td>0.913043</td>\n",
       "    </tr>\n",
       "    <tr>\n",
       "      <th>3</th>\n",
       "      <td>78</td>\n",
       "      <td>0.371795</td>\n",
       "    </tr>\n",
       "  </tbody>\n",
       "</table>\n",
       "</div>"
      ],
      "text/plain": [
       "       Survived          \n",
       "          count      mean\n",
       "Pclass                   \n",
       "1            12  0.916667\n",
       "2            23  0.913043\n",
       "3            78  0.371795"
      ]
     },
     "execution_count": 24,
     "metadata": {},
     "output_type": "execute_result"
    }
   ],
   "source": [
    "df_with_ages[df_with_ages['Age'] < 18].groupby('Pclass')[['Survived']].describe().unstack()\\\n",
    "    .loc[:,(slice(None),['count','mean']),]"
   ]
  },
  {
   "cell_type": "markdown",
   "metadata": {
    "collapsed": true
   },
   "source": [
    "And indeed, most of the children were in Pclass 3 where their mean is only 0.35 and this causes the average for all to be low."
   ]
  },
  {
   "cell_type": "code",
   "execution_count": 25,
   "metadata": {
    "collapsed": false
   },
   "outputs": [
    {
     "data": {
      "text/plain": [
       "<matplotlib.axes._subplots.AxesSubplot at 0x119f77f10>"
      ]
     },
     "execution_count": 25,
     "metadata": {},
     "output_type": "execute_result"
    },
    {
     "data": {
      "image/png": "[encoded data removed]",
      "text/plain": [
       "<matplotlib.figure.Figure at 0x11990e150>"
      ]
     },
     "metadata": {},
     "output_type": "display_data"
    }
   ],
   "source": [
    "# Display children survival distribution by Pclass\n",
    "sns.barplot(x=\"Pclass\", y=\"Survived\", data=df_with_ages[df_with_ages['Age'] < 18])"
   ]
  },
  {
   "cell_type": "markdown",
   "metadata": {},
   "source": [
    "### Here we'll test if the chance of surviving between those who have relatives and those who don't is statistically significant at α = 0.01"
   ]
  },
  {
   "cell_type": "code",
   "execution_count": 26,
   "metadata": {
    "collapsed": false
   },
   "outputs": [
    {
     "name": "stdout",
     "output_type": "stream",
     "text": [
      "H₀: Μhr = Μnhr          H₁: Μhr ≠ Μnhr          α = .01\n"
     ]
    }
   ],
   "source": [
    "print u'H\\u2080: \\u039Chr = \\u039cnhr          H\\u2081: \\u039Chr \\u2260 \\u039cnhr          \\u03B1 = .01'"
   ]
  },
  {
   "cell_type": "code",
   "execution_count": 27,
   "metadata": {
    "collapsed": false
   },
   "outputs": [
    {
     "name": "stdout",
     "output_type": "stream",
     "text": [
      "count    354.000000\n",
      "mean       0.505650\n",
      "std        0.500676\n",
      "min        0.000000\n",
      "25%        0.000000\n",
      "50%        1.000000\n",
      "75%        1.000000\n",
      "max        1.000000\n",
      "Name: Survived, dtype: float64\n",
      "count    537.000000\n",
      "mean       0.303538\n",
      "std        0.460214\n",
      "min        0.000000\n",
      "25%        0.000000\n",
      "50%        0.000000\n",
      "75%        1.000000\n",
      "max        1.000000\n",
      "Name: Survived, dtype: float64\n"
     ]
    }
   ],
   "source": [
    "# separate those having relatives (hr) from those who don't (nhr)\n",
    "having_relatives = passengers_df[(passengers_df['SibSp'] > 0) | (passengers_df['Parch'] > 0)]['Survived']\n",
    "not_having_relatives = passengers_df[(passengers_df['SibSp'] == 0) & (passengers_df['Parch'] == 0)]['Survived']\n",
    "\n",
    "print having_relatives.describe()\n",
    "print not_having_relatives.describe()"
   ]
  },
  {
   "cell_type": "code",
   "execution_count": 28,
   "metadata": {
    "collapsed": false
   },
   "outputs": [
    {
     "name": "stdout",
     "output_type": "stream",
     "text": [
      "α = 0.01\n",
      "Degree of freedom: 889\n",
      "t-statistic: 6.19\n",
      "t-critical: 2.581\n",
      "p-value: 9.00949017933e-10\n",
      "The result is statistically significant\n",
      "We reject the null hypothesis.\n",
      "CI(99.0%) = (0.12, 0.29)\n"
     ]
    }
   ],
   "source": [
    "ttest(having_relatives, not_having_relatives, 2.581, 0.01)"
   ]
  },
  {
   "cell_type": "markdown",
   "metadata": {},
   "source": [
    "** The two-tailed P value is less than 0.0001 **  \n",
    "** By conventional criteria, this difference is considered to be extremely statistically significant. **  \n",
    "** *Based on the result Μhr ≠ Μnhr and we can reject the null hypotheses. * **"
   ]
  },
  {
   "cell_type": "markdown",
   "metadata": {},
   "source": [
    "** *We are 99% sure that people who have relatives on criuses have between 12% and 29% higher chance of surviving in case of a shipwreck* **"
   ]
  },
  {
   "cell_type": "code",
   "execution_count": 29,
   "metadata": {
    "collapsed": false
   },
   "outputs": [
    {
     "data": {
      "text/plain": [
       "'t-statistic: 6.19303248808, p-value: 9.00949017933e-10'"
      ]
     },
     "execution_count": 29,
     "metadata": {},
     "output_type": "execute_result"
    }
   ],
   "source": [
    "# Another way of computing the t-statistic and p-value would be this one \n",
    "# but I did the above because of the confidence intervals\n",
    "t, p = stats.ttest_ind(having_relatives, not_having_relatives)\n",
    "\"t-statistic: {}, p-value: {}\".format(t,p)"
   ]
  },
  {
   "cell_type": "markdown",
   "metadata": {},
   "source": [
    "### Examine distribution of people on embarkment"
   ]
  },
  {
   "cell_type": "code",
   "execution_count": 30,
   "metadata": {
    "collapsed": false
   },
   "outputs": [
    {
     "data": {
      "text/html": [
       "<div>\n",
       "<table border=\"1\" class=\"dataframe\">\n",
       "  <thead>\n",
       "    <tr style=\"text-align: right;\">\n",
       "      <th></th>\n",
       "      <th>Survived</th>\n",
       "      <th>Pclass</th>\n",
       "      <th>Fare</th>\n",
       "      <th>Age</th>\n",
       "    </tr>\n",
       "    <tr>\n",
       "      <th>Embarked</th>\n",
       "      <th></th>\n",
       "      <th></th>\n",
       "      <th></th>\n",
       "      <th></th>\n",
       "    </tr>\n",
       "  </thead>\n",
       "  <tbody>\n",
       "    <tr>\n",
       "      <th>C</th>\n",
       "      <td>0.553571</td>\n",
       "      <td>1.886905</td>\n",
       "      <td>59.954144</td>\n",
       "      <td>30.814769</td>\n",
       "    </tr>\n",
       "    <tr>\n",
       "      <th>Q</th>\n",
       "      <td>0.389610</td>\n",
       "      <td>2.909091</td>\n",
       "      <td>13.276030</td>\n",
       "      <td>28.089286</td>\n",
       "    </tr>\n",
       "    <tr>\n",
       "      <th>S</th>\n",
       "      <td>0.336957</td>\n",
       "      <td>2.350932</td>\n",
       "      <td>27.079812</td>\n",
       "      <td>29.445397</td>\n",
       "    </tr>\n",
       "  </tbody>\n",
       "</table>\n",
       "</div>"
      ],
      "text/plain": [
       "          Survived    Pclass       Fare        Age\n",
       "Embarked                                          \n",
       "C         0.553571  1.886905  59.954144  30.814769\n",
       "Q         0.389610  2.909091  13.276030  28.089286\n",
       "S         0.336957  2.350932  27.079812  29.445397"
      ]
     },
     "execution_count": 30,
     "metadata": {},
     "output_type": "execute_result"
    }
   ],
   "source": [
    "# Get the means\n",
    "embarkation_mean = passengers_df.groupby('Embarked').mean()[['Survived', 'Pclass', 'Fare','Age']]\n",
    "embarkation_mean"
   ]
  },
  {
   "cell_type": "markdown",
   "metadata": {},
   "source": [
    "The only interesting thing we can see from the above table is that most of the people that have been Embarked in Cherbourg were rich. But from the table below we can see they were not as many as Southampton"
   ]
  },
  {
   "cell_type": "code",
   "execution_count": 31,
   "metadata": {
    "collapsed": true
   },
   "outputs": [],
   "source": [
    "# Function for displaying the below graphics preventing repetition of the plot settings\n",
    "def display_embarked_by_pclass(df):\n",
    "    sns.countplot(x=\"Embarked\", hue=\"Pclass\", data=df, order=['S', 'C', 'Q']);"
   ]
  },
  {
   "cell_type": "code",
   "execution_count": 32,
   "metadata": {
    "collapsed": false
   },
   "outputs": [
    {
     "data": {
      "image/png": "[encoded data removed]",
      "text/plain": [
       "<matplotlib.figure.Figure at 0x1199d3910>"
      ]
     },
     "metadata": {},
     "output_type": "display_data"
    }
   ],
   "source": [
    "# Display distribution by Pclass\n",
    "display_embarked_by_pclass(passengers_df)"
   ]
  },
  {
   "cell_type": "code",
   "execution_count": 33,
   "metadata": {
    "collapsed": false
   },
   "outputs": [
    {
     "data": {
      "image/png": "[encoded data removed]",
      "text/plain": [
       "<matplotlib.figure.Figure at 0x119bc2e10>"
      ]
     },
     "metadata": {},
     "output_type": "display_data"
    }
   ],
   "source": [
    "# Display survivors location\n",
    "display_embarked_by_pclass(passengers_df[passengers_df['Survived'] == 1])"
   ]
  },
  {
   "cell_type": "code",
   "execution_count": 34,
   "metadata": {
    "collapsed": false,
    "scrolled": true
   },
   "outputs": [
    {
     "data": {
      "image/png": "[encoded data removed]",
      "text/plain": [
       "<matplotlib.figure.Figure at 0x119b3a090>"
      ]
     },
     "metadata": {},
     "output_type": "display_data"
    }
   ],
   "source": [
    "# Display non-survivors location\n",
    "display_embarked_by_pclass(passengers_df[passengers_df['Survived'] != 1])"
   ]
  },
  {
   "cell_type": "markdown",
   "metadata": {},
   "source": [
    "We can see from the above graphics that most bodies Embarked in Southampton"
   ]
  },
  {
   "cell_type": "markdown",
   "metadata": {},
   "source": [
    "### Conclusions"
   ]
  },
  {
   "cell_type": "markdown",
   "metadata": {},
   "source": [
    "##### From the results we can conclude that you best bet of surviving is to be a middle age woman with higher or middle socio-economic status not travelling alone. And the lowest chance is youn man from lower class travelling alone.\n",
    "\n",
    "Let's test the above scenario\n",
    "\n",
    "w = woman, 30 - 60, Pclass 1 or 2, with relative(s)<br />\n",
    "m = man 18-30, Pclass 3, alone<br />\n",
    "H₀: Μw = Μm<br />H₁: Μw ≠ Μm<br />α = .01<br />"
   ]
  },
  {
   "cell_type": "code",
   "execution_count": 35,
   "metadata": {
    "collapsed": false
   },
   "outputs": [
    {
     "name": "stdout",
     "output_type": "stream",
     "text": [
      "Samples w:47, m:110\n",
      "α = 0.01\n",
      "Degree of freedom: 155\n",
      "t-statistic: 15.55\n",
      "t-critical: 2.626\n",
      "p-value: 1.84451507098e-33\n",
      "The result is statistically significant\n",
      "We reject the null hypothesis.\n",
      "CI(99.0%) = (0.69, 0.97)\n"
     ]
    }
   ],
   "source": [
    "def w_cond():\n",
    "    return df_with_ages[\n",
    "        (df_with_ages['Sex'] == 'female') &\n",
    "        (df_with_ages['Age'] >= 30) & \n",
    "        (df_with_ages['Age'] <= 60) & \n",
    "        (df_with_ages['Pclass'] < 3) & \n",
    "        ((df_with_ages['SibSp'] > 0) | (df_with_ages['Parch'] > 0))\n",
    "    ];\n",
    "def m_cond():\n",
    "    return df_with_ages[\n",
    "        (df_with_ages['Sex'] == 'male') &\n",
    "        (df_with_ages['Age'] >= 18) & \n",
    "        (df_with_ages['Age'] <= 30) & \n",
    "        (df_with_ages['Pclass'] == 3) & \n",
    "        (df_with_ages['SibSp'] == 0) &\n",
    "        (df_with_ages['Parch'] == 0)\n",
    "    ];\n",
    "w_sample = w_cond()\n",
    "m_sample = m_cond()\n",
    "\n",
    "print \"Samples w:{}, m:{}\".format(w_sample['PassengerId'].count(), m_sample['PassengerId'].count())\n",
    "ttest(w_sample['Survived'], m_sample['Survived'], 2.626, 0.01)"
   ]
  },
  {
   "cell_type": "markdown",
   "metadata": {},
   "source": [
    "#### *Overall we are 99% confident that the w group has between 69% and 97% higher chance of surviving than m group*"
   ]
  },
  {
   "cell_type": "markdown",
   "metadata": {},
   "source": [
    "This study was concentrated on calculating the survivability from shipwrecks and its realtion with different factors like age, gender and social status. However there were some limitations. For example about 20% of the age data was missing. While the size of the data was good enough there are a lot of lurking variables when talking about shipwrecks like weather, timeof the day, location. The year of when it happened also affects it since cruisers of this type nowadays are supposed to be a lot better and thanks to the communications can be reacted a lot faster. Another issue is that the data is from a single shipwreck. Every shipwreck has an unique story and having multiple samples from different events would make the research a lot more conclusive. But if we had those records we could go into other directions like comparing decades, locations, etc. - all those lurking variables.\n",
    "In regards with the data available it would have been great if we had the relatives connections. Then we could have sampled the families and tackle on other topics like family survivability. Another interesting thing if we had the cabin data would be to build heat map for the fare price on the ship.\n",
    "\n",
    "Apart from those limitations the data was good enough to draw several hypothesis which might be further established with research on other shipwrecks:\n",
    "Women are 51 to 68% more likely to survive than men.\n",
    "You'll probably have between 12 and 29 higher chance if not travelling alone.\n",
    "Being from a higher class would also increase your chances (0.63 vs. 0.24 average survivability for Pclass 1 vs. Pclass 3) \n",
    "\n",
    "If you're middle aged high class woman go ahead, if you're young lower class man - think again!"
   ]
  },
  {
   "cell_type": "markdown",
   "metadata": {},
   "source": [
    "P.S. Almost 5% of people were named William :)"
   ]
  },
  {
   "cell_type": "markdown",
   "metadata": {},
   "source": [
    "Sources:\n",
    "  1. [Titanic passengers' data and description](https://www.kaggle.com/c/titanic/data)\n",
    "  2. [T table](https://s3.amazonaws.com/udacity-hosted-downloads/t-table.jpg)"
   ]
  }
 ],
 "metadata": {
  "kernelspec": {
   "display_name": "Python 2",
   "language": "python",
   "name": "python2"
  },
  "language_info": {
   "codemirror_mode": {
    "name": "ipython",
    "version": 2
   },
   "file_extension": ".py",
   "mimetype": "text/x-python",
   "name": "python",
   "nbconvert_exporter": "python",
   "pygments_lexer": "ipython2",
   "version": "2.7.11"
  }
 },
 "nbformat": 4,
 "nbformat_minor": 0
}
